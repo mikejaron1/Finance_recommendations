{
 "cells": [
  {
   "cell_type": "code",
   "execution_count": 75,
   "metadata": {
    "collapsed": false
   },
   "outputs": [],
   "source": [
    "import pandas as pd\n",
    "import numpy as np\n",
    "import matplotlib.pyplot as plt\n",
    "import seaborn as sns\n",
    "%matplotlib inline"
   ]
  },
  {
   "cell_type": "code",
   "execution_count": 2,
   "metadata": {
    "collapsed": true
   },
   "outputs": [],
   "source": [
    "# Connect to APIs\n",
    "\n",
    "# start with Citi API"
   ]
  },
  {
   "cell_type": "code",
   "execution_count": null,
   "metadata": {
    "collapsed": true
   },
   "outputs": [],
   "source": [
    "# Wealthfront vs Schwab vs Vangaurd\n"
   ]
  },
  {
   "cell_type": "code",
   "execution_count": 60,
   "metadata": {
    "collapsed": false
   },
   "outputs": [
    {
     "name": "stdout",
     "output_type": "stream",
     "text": [
      "-2998.16805552\n"
     ]
    }
   ],
   "source": [
    "# buying a home vs investing \n",
    "# also should I refinance?\n",
    "\n",
    "# set variables\n",
    "home_price = 785000\n",
    "down_payment = .2\n",
    "loan = home_price - (home_price * down_payment)\n",
    "loan_term = 30 # years\n",
    "interest = .04\n",
    "\n",
    "\n",
    "print np.pmt(interest/12, loan_term*12, loan)"
   ]
  },
  {
   "cell_type": "code",
   "execution_count": 112,
   "metadata": {
    "collapsed": false
   },
   "outputs": [
    {
     "name": "stdout",
     "output_type": "stream",
     "text": [
      "                     Rate:      0.040000\n",
      "             Month Growth:      1.003333\n",
      "                      APY:      0.040742\n",
      "             Payoff Years:            30\n",
      "            Payoff Months:           360\n",
      "                   Amount:     628000.00\n",
      "          Monthly Payment:       2998.17\n",
      "           Annual Payment:      35978.04\n",
      "             Total Payout:    1079341.20\n"
     ]
    }
   ],
   "source": [
    "import mortgage\n",
    "m = mortgage.Mortgage(interest=interest, amount=loan, months=loan_term*12)\n",
    "mortgage.print_summary(m)\n",
    "# m.monthly_payment()\n",
    "# m.total_payout()"
   ]
  },
  {
   "cell_type": "code",
   "execution_count": 46,
   "metadata": {
    "collapsed": false
   },
   "outputs": [
    {
     "name": "stdout",
     "output_type": "stream",
     "text": [
      "(Decimal('904.84'), Decimal('2093.33')) 2998.17\n",
      "(Decimal('907.85'), Decimal('2090.32')) 2998.17\n",
      "(Decimal('910.88'), Decimal('2087.29')) 2998.17\n",
      "(Decimal('913.92'), Decimal('2084.25')) 2998.17\n",
      "(Decimal('916.96'), Decimal('2081.21')) 2998.17\n",
      "(Decimal('920.02'), Decimal('2078.15')) 2998.17\n",
      "(Decimal('923.08'), Decimal('2075.09')) 2998.17\n",
      "(Decimal('926.16'), Decimal('2072.01')) 2998.17\n",
      "(Decimal('929.25'), Decimal('2068.92')) 2998.17\n",
      "(Decimal('932.35'), Decimal('2065.82')) 2998.17\n",
      "(Decimal('935.45'), Decimal('2062.72')) 2998.17\n",
      "(Decimal('938.57'), Decimal('2059.60')) 2998.17\n",
      "11059.33\n"
     ]
    }
   ],
   "source": [
    "# We can find the amount of principle paid in the first year.\n",
    "a = 0\n",
    "for count, i in enumerate(m.monthly_payment_schedule()):\n",
    "    print i, i[0] + i[1]\n",
    "    a += i[0]\n",
    "    if count == 11:\n",
    "        break\n",
    "print a"
   ]
  },
  {
   "cell_type": "code",
   "execution_count": 42,
   "metadata": {
    "collapsed": false
   },
   "outputs": [
    {
     "name": "stdout",
     "output_type": "stream",
     "text": [
      "11059.33\n"
     ]
    }
   ],
   "source": [
    "# We can find the amount of principle paid in the first year.\n",
    "from itertools import islice\n",
    "print sum(month[0] for month in islice(m.monthly_payment_schedule(), 12))"
   ]
  },
  {
   "cell_type": "code",
   "execution_count": 61,
   "metadata": {
    "collapsed": false
   },
   "outputs": [
    {
     "name": "stdout",
     "output_type": "stream",
     "text": [
      "160331.763908\n"
     ]
    }
   ],
   "source": [
    "# P = int(input(\"Enter starting principle please. \"))\n",
    "# n = int(input(\"Enter Compound intrest rate.(daily, monthly, quarterly, half-year, yearly) \"))\n",
    "# r = float(input(\"Enter annual interest amount. (decimal) \"))\n",
    "# t = int(input(\"Enter the amount of years. \"))\n",
    "\n",
    "P = 157000\n",
    "n = 12\n",
    "r = .07\n",
    "t = 30\n",
    "\n",
    "final = P * (((1 + (r/(100.0 * n))) ** (n*t)))\n",
    "print final"
   ]
  },
  {
   "cell_type": "code",
   "execution_count": 71,
   "metadata": {
    "collapsed": false
   },
   "outputs": [
    {
     "name": "stdout",
     "output_type": "stream",
     "text": [
      "155915.833333\n",
      "154825.342361\n",
      "153728.490192\n",
      "152625.239718\n",
      "151515.553616\n",
      "150399.394345\n",
      "149276.724146\n",
      "148147.505037\n",
      "147011.698816\n",
      "145869.267059\n",
      "144720.171117\n",
      "143564.372115\n",
      "143564.372115 er\n"
     ]
    }
   ],
   "source": [
    "principal = 157000\n",
    "rate = .07\n",
    "times_per_year = 12\n",
    "years = 1\n",
    "pmt = 2000\n",
    "\n",
    "# pmt = np.array([-2000,-1000])\n",
    "\n",
    "for i in range(1, 13):\n",
    "    print np.fv(rate/12, i, pmt, -principal)\n",
    "\n",
    "    \n",
    "print np.fv(rate/12, times_per_year*years, pmt, -principal), 'er'"
   ]
  },
  {
   "cell_type": "code",
   "execution_count": 148,
   "metadata": {
    "collapsed": false
   },
   "outputs": [
    {
     "name": "stdout",
     "output_type": "stream",
     "text": [
      "1798\n",
      "804280\n"
     ]
    }
   ],
   "source": [
    "# put investment and mortgage together\n",
    "home_price = 785000\n",
    "down_payment = .2\n",
    "down_payment = home_price * down_payment\n",
    "loan = home_price - down_payment\n",
    "loan_term = 30 # years\n",
    "interest = .04\n",
    "home_appreciation = 1500000\n",
    "home_appreciation_rate = .04\n",
    "\n",
    "m = mortgage.Mortgage(interest=interest, amount=loan, months=loan_term*12)\n",
    "\n",
    "home = []\n",
    "a = int(down_payment)\n",
    "for count, i in enumerate(m.monthly_payment_schedule()):\n",
    "    a += i[0] + i[1]\n",
    "    home.append(a)\n",
    "\n",
    "    \n",
    "rate = .07\n",
    "mortgage_pay = m.monthly_payment()\n",
    "property_taxes = 800\n",
    "house_pay = mortgage_pay + property_taxes\n",
    "rent = 2000\n",
    "pmt = int(house_pay - rent)\n",
    "print pmt\n",
    "\n",
    "investment = []\n",
    "ha  = home_price\n",
    "home_app = []\n",
    "cost = []\n",
    "c = int(down_payment)\n",
    "for i in range(1, (loan_term * 12)+1):\n",
    "    c += pmt\n",
    "    cost.append(c)\n",
    "    investment.append(np.fv(rate/12, i, -pmt, -down_payment))\n",
    "    ha = ha * (1 + home_appreciation_rate/12)\n",
    "    home_app.append(ha)\n",
    "    \n",
    "print c"
   ]
  },
  {
   "cell_type": "code",
   "execution_count": 149,
   "metadata": {
    "collapsed": false
   },
   "outputs": [
    {
     "data": {
      "image/png": "[encoded data removed]",
      "text/plain": [
       "<matplotlib.figure.Figure at 0x118b3e650>"
      ]
     },
     "metadata": {},
     "output_type": "display_data"
    }
   ],
   "source": [
    "plt.plot(range(1,(30*12)+1), investment)\n",
    "plt.plot(range(1,(30*12)+1), home)\n",
    "plt.plot(range(1,(30*12)+1), cost, '--')\n",
    "plt.plot(range(1,(30*12)+1), home_app, '--')\n",
    "plt.show()"
   ]
  },
  {
   "cell_type": "code",
   "execution_count": 143,
   "metadata": {
    "collapsed": false
   },
   "outputs": [
    {
     "data": {
      "text/plain": [
       "824.25"
      ]
     },
     "execution_count": 143,
     "metadata": {},
     "output_type": "execute_result"
    }
   ],
   "source": [
    "785+(785*.05)"
   ]
  },
  {
   "cell_type": "code",
   "execution_count": 144,
   "metadata": {
    "collapsed": false
   },
   "outputs": [
    {
     "data": {
      "text/plain": [
       "824.25"
      ]
     },
     "execution_count": 144,
     "metadata": {},
     "output_type": "execute_result"
    }
   ],
   "source": [
    "785*1.05"
   ]
  },
  {
   "cell_type": "code",
   "execution_count": null,
   "metadata": {
    "collapsed": true
   },
   "outputs": [],
   "source": []
  }
 ],
 "metadata": {
  "anaconda-cloud": {},
  "kernelspec": {
   "display_name": "Python [Root]",
   "language": "python",
   "name": "Python [Root]"
  },
  "language_info": {
   "codemirror_mode": {
    "name": "ipython",
    "version": 2
   },
   "file_extension": ".py",
   "mimetype": "text/x-python",
   "name": "python",
   "nbconvert_exporter": "python",
   "pygments_lexer": "ipython2",
   "version": "2.7.12"
  }
 },
 "nbformat": 4,
 "nbformat_minor": 0
}
