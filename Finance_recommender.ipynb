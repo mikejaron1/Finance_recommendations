{
 "cells": [
  {
   "cell_type": "code",
   "execution_count": 1,
   "metadata": {
    "collapsed": false
   },
   "outputs": [],
   "source": [
    "import pandas as pd\n",
    "import numpy as np\n",
    "import mortgage as mtg\n",
    "import matplotlib.pyplot as plt\n",
    "import seaborn as sns\n",
    "%matplotlib inline"
   ]
  },
  {
   "cell_type": "code",
   "execution_count": 2,
   "metadata": {
    "collapsed": true
   },
   "outputs": [],
   "source": [
    "# Connect to APIs\n",
    "\n",
    "# start with Citi API"
   ]
  },
  {
   "cell_type": "code",
   "execution_count": 3,
   "metadata": {
    "collapsed": true
   },
   "outputs": [],
   "source": [
    "# Wealthfront vs Schwab vs Vangaurd\n"
   ]
  },
  {
   "cell_type": "code",
   "execution_count": 4,
   "metadata": {
    "collapsed": false
   },
   "outputs": [
    {
     "name": "stdout",
     "output_type": "stream",
     "text": [
      "-2998.16805552\n"
     ]
    }
   ],
   "source": [
    "# buying a home vs investing \n",
    "# also should I refinance?\n",
    "\n",
    "# set variables\n",
    "home_price = 785000\n",
    "down_payment = .2\n",
    "loan = home_price - (home_price * down_payment)\n",
    "loan_term = 30 # years\n",
    "interest = .04\n",
    "\n",
    "\n",
    "print np.pmt(interest/12, loan_term*12, loan)"
   ]
  },
  {
   "cell_type": "code",
   "execution_count": 5,
   "metadata": {
    "collapsed": false
   },
   "outputs": [
    {
     "name": "stdout",
     "output_type": "stream",
     "text": [
      "                     Rate:      0.040000\n",
      "             Month Growth:      1.003333\n",
      "                      APY:      0.040742\n",
      "             Payoff Years:            30\n",
      "            Payoff Months:           360\n",
      "                   Amount:     628000.00\n",
      "          Monthly Payment:       2998.17\n",
      "           Annual Payment:      35978.04\n",
      "             Total Payout:    1079341.20\n"
     ]
    }
   ],
   "source": [
    "\n",
    "m = mortgage.Mortgage(interest=interest, amount=loan, months=loan_term*12)\n",
    "mortgage.print_summary(m)\n",
    "# m.monthly_payment()\n",
    "# m.total_payout()"
   ]
  },
  {
   "cell_type": "code",
   "execution_count": 6,
   "metadata": {
    "collapsed": false
   },
   "outputs": [
    {
     "name": "stdout",
     "output_type": "stream",
     "text": [
      "(Decimal('904.84'), Decimal('2093.33')) 2998.17\n",
      "(Decimal('907.85'), Decimal('2090.32')) 2998.17\n",
      "(Decimal('910.88'), Decimal('2087.29')) 2998.17\n",
      "(Decimal('913.92'), Decimal('2084.25')) 2998.17\n",
      "(Decimal('916.96'), Decimal('2081.21')) 2998.17\n",
      "(Decimal('920.02'), Decimal('2078.15')) 2998.17\n",
      "(Decimal('923.08'), Decimal('2075.09')) 2998.17\n",
      "(Decimal('926.16'), Decimal('2072.01')) 2998.17\n",
      "(Decimal('929.25'), Decimal('2068.92')) 2998.17\n",
      "(Decimal('932.35'), Decimal('2065.82')) 2998.17\n",
      "(Decimal('935.45'), Decimal('2062.72')) 2998.17\n",
      "(Decimal('938.57'), Decimal('2059.60')) 2998.17\n",
      "11059.33\n"
     ]
    }
   ],
   "source": [
    "# We can find the amount of principle paid in the first year.\n",
    "a = 0\n",
    "for count, i in enumerate(m.monthly_payment_schedule()):\n",
    "    print i, i[0] + i[1]\n",
    "    a += i[0]\n",
    "    if count == 11:\n",
    "        break\n",
    "print a"
   ]
  },
  {
   "cell_type": "code",
   "execution_count": 4,
   "metadata": {
    "collapsed": false
   },
   "outputs": [
    {
     "ename": "NameError",
     "evalue": "name 'm' is not defined",
     "output_type": "error",
     "traceback": [
      "\u001b[0;31m---------------------------------------------------------------------------\u001b[0m",
      "\u001b[0;31mNameError\u001b[0m                                 Traceback (most recent call last)",
      "\u001b[0;32m<ipython-input-4-c269a38a806d>\u001b[0m in \u001b[0;36m<module>\u001b[0;34m()\u001b[0m\n\u001b[1;32m      1\u001b[0m \u001b[0;31m# We can find the amount of principle paid in the first year.\u001b[0m\u001b[0;34m\u001b[0m\u001b[0;34m\u001b[0m\u001b[0m\n\u001b[1;32m      2\u001b[0m \u001b[0;32mfrom\u001b[0m \u001b[0mitertools\u001b[0m \u001b[0;32mimport\u001b[0m \u001b[0mislice\u001b[0m\u001b[0;34m\u001b[0m\u001b[0m\n\u001b[0;32m----> 3\u001b[0;31m \u001b[0;32mprint\u001b[0m \u001b[0msum\u001b[0m\u001b[0;34m(\u001b[0m\u001b[0mmonth\u001b[0m\u001b[0;34m[\u001b[0m\u001b[0;36m0\u001b[0m\u001b[0;34m]\u001b[0m \u001b[0;32mfor\u001b[0m \u001b[0mmonth\u001b[0m \u001b[0;32min\u001b[0m \u001b[0mislice\u001b[0m\u001b[0;34m(\u001b[0m\u001b[0mm\u001b[0m\u001b[0;34m.\u001b[0m\u001b[0mmonthly_payment_schedule\u001b[0m\u001b[0;34m(\u001b[0m\u001b[0;34m)\u001b[0m\u001b[0;34m,\u001b[0m \u001b[0;36m12\u001b[0m\u001b[0;34m)\u001b[0m\u001b[0;34m)\u001b[0m\u001b[0;34m\u001b[0m\u001b[0m\n\u001b[0m",
      "\u001b[0;31mNameError\u001b[0m: name 'm' is not defined"
     ]
    }
   ],
   "source": [
    "# We can find the amount of principle paid in the first year.\n",
    "from itertools import islice\n",
    "print sum(month[0] for month in islice(m.monthly_payment_schedule(), 12))"
   ]
  },
  {
   "cell_type": "code",
   "execution_count": 8,
   "metadata": {
    "collapsed": false
   },
   "outputs": [
    {
     "name": "stdout",
     "output_type": "stream",
     "text": [
      "160331.763908\n"
     ]
    }
   ],
   "source": [
    "# P = int(input(\"Enter starting principle please. \"))\n",
    "# n = int(input(\"Enter Compound intrest rate.(daily, monthly, quarterly, half-year, yearly) \"))\n",
    "# r = float(input(\"Enter annual interest amount. (decimal) \"))\n",
    "# t = int(input(\"Enter the amount of years. \"))\n",
    "\n",
    "P = 157000\n",
    "n = 12\n",
    "r = .07\n",
    "t = 30\n",
    "\n",
    "final = P * (((1 + (r/(100.0 * n))) ** (n*t)))\n",
    "print final"
   ]
  },
  {
   "cell_type": "code",
   "execution_count": 9,
   "metadata": {
    "collapsed": false
   },
   "outputs": [
    {
     "name": "stdout",
     "output_type": "stream",
     "text": [
      "155915.833333\n",
      "154825.342361\n",
      "153728.490192\n",
      "152625.239718\n",
      "151515.553616\n",
      "150399.394345\n",
      "149276.724146\n",
      "148147.505037\n",
      "147011.698816\n",
      "145869.267059\n",
      "144720.171117\n",
      "143564.372115\n",
      "143564.372115 er\n"
     ]
    }
   ],
   "source": [
    "principal = 157000\n",
    "rate = .07\n",
    "times_per_year = 12\n",
    "years = 1\n",
    "pmt = 2000\n",
    "\n",
    "# pmt = np.array([-2000,-1000])\n",
    "\n",
    "for i in range(1, 13):\n",
    "    print np.fv(rate/12, i, pmt, -principal)\n",
    "\n",
    "    \n",
    "print np.fv(rate/12, times_per_year*years, pmt, -principal), 'er'"
   ]
  },
  {
   "cell_type": "code",
   "execution_count": 116,
   "metadata": {
    "collapsed": false
   },
   "outputs": [
    {
     "name": "stdout",
     "output_type": "stream",
     "text": [
      "payment per month: 2203\n",
      "4203.17 house pay\n",
      "investment: 1982418.40301\n",
      "home value: 1429649.0487\n",
      "diff: 552769.354309\n",
      "3622.72316821 580.446831793\n"
     ]
    }
   ],
   "source": [
    "# put investment and mortgage together\n",
    "home_price = 785000\n",
    "down_payment = .2\n",
    "down_payment = home_price * down_payment\n",
    "loan = home_price - down_payment\n",
    "loan_term = 30 # years\n",
    "interest = .04\n",
    "# home_appreciation = 1500000\n",
    "home_appreciation_rate = .02\n",
    "\n",
    "m = mortgage.Mortgage(interest=interest, amount=loan, months=loan_term*12)\n",
    "\n",
    "home = []\n",
    "a = int(down_payment)\n",
    "for count, i in enumerate(m.monthly_payment_schedule()):\n",
    "    a += i[0] + i[1]\n",
    "    home.append(a)\n",
    "\n",
    "    \n",
    "rate = .07\n",
    "mortgage_pay = m.monthly_payment()\n",
    "property_taxes = 800\n",
    "hoi = 75\n",
    "hoa = 130\n",
    "expense = 200\n",
    "house_pay = mortgage_pay + property_taxes + hoi + hoa + expense\n",
    "rent = 2000\n",
    "rent_increase_rate = .02\n",
    "pmt = int(house_pay - rent)\n",
    "# pmt = 0\n",
    "print 'payment per month:', pmt\n",
    "print '%s house pay' %house_pay\n",
    "\n",
    "investment = []\n",
    "ha  = home_price\n",
    "home_app = []\n",
    "cost = []\n",
    "roi_inv = []\n",
    "c = int(down_payment)\n",
    "for i in range(1, (loan_term * 12)+1):\n",
    "    if i % 12 == 0:\n",
    "        rent = rent + (rent * rent_increase_rate)\n",
    "        pmt = float(house_pay) - rent\n",
    "    c += pmt\n",
    "    cost.append(c)\n",
    "    fv = np.fv(rate/12, i, -pmt, -down_payment)\n",
    "    investment.append(fv)\n",
    "    roi_inv.append(fv - down_payment - pmt)\n",
    "    ha = ha + (ha * home_appreciation_rate/12)\n",
    "    home_app.append(ha)\n",
    "    \n",
    "print 'investment:', fv\n",
    "print 'home value:', ha\n",
    "print 'diff:', fv - ha\n",
    "print rent, pmt"
   ]
  },
  {
   "cell_type": "code",
   "execution_count": 117,
   "metadata": {
    "collapsed": false
   },
   "outputs": [
    {
     "data": {
      "text/plain": [
       "16"
      ]
     },
     "execution_count": 117,
     "metadata": {},
     "output_type": "execute_result"
    }
   ],
   "source": [
    "200/12"
   ]
  },
  {
   "cell_type": "code",
   "execution_count": 120,
   "metadata": {
    "collapsed": false
   },
   "outputs": [
    {
     "data": {
      "image/png": "[encoded data removed]",
      "text/plain": [
       "<matplotlib.figure.Figure at 0x1188abd50>"
      ]
     },
     "metadata": {},
     "output_type": "display_data"
    }
   ],
   "source": [
    "plt.plot(range(1,(30*12)+1), investment, label=\"invest\")\n",
    "# plt.plot(range(1,(30*12)+1), home, label=\"home\")\n",
    "# plt.plot(range(1,(30*12)+1), cost, '--', label=\"cost\")\n",
    "plt.plot(range(1,(30*12)+1), home_app, '--', label=\"home_app\")\n",
    "# plt.plot(range(1,(30*12)+1), roi_inv, label=\"roi_inv\")\n",
    "# plt.plot(range(1,(30*12)+1), roi_home, label=\"roi_home\")\n",
    "plt.legend(loc='upper left')\n",
    "plt.show()"
   ]
  },
  {
   "cell_type": "code",
   "execution_count": 12,
   "metadata": {
    "collapsed": false
   },
   "outputs": [
    {
     "name": "stdout",
     "output_type": "stream",
     "text": [
      "88329.4\n",
      "372.41\n",
      "134067.60\n"
     ]
    }
   ],
   "source": [
    "# refinance\n",
    "current_time = 15\n",
    "new_interest = .03\n",
    "new_loan_term = 30\n",
    "\n",
    "principal_paid = float(sum(month[0] for month in islice(m.monthly_payment_schedule(), \\\n",
    "                                                 current_time * 12)))\n",
    "interest_paid = float(sum(month[1] for month in islice(m.monthly_payment_schedule(), \\\n",
    "                                                 current_time * 12)))\n",
    "new_loan = loan - principal_paid - interest_paid\n",
    "\n",
    "\n",
    "mR = mortgage.Mortgage(interest=new_interest, amount=new_loan, months=new_loan_term * 12)\n",
    "\n",
    "new_interest = float(mR.total_payout() - mR.amount())\n",
    "\n",
    "print new_loan\n",
    "print mR.monthly_payment()\n",
    "print mR.total_payout()"
   ]
  },
  {
   "cell_type": "code",
   "execution_count": 13,
   "metadata": {
    "collapsed": false
   },
   "outputs": [
    {
     "data": {
      "text/plain": [
       "362737.18"
      ]
     },
     "execution_count": 13,
     "metadata": {},
     "output_type": "execute_result"
    }
   ],
   "source": [
    "principal_paid\n",
    "interest_paid\n",
    "new_interest + interest_paid"
   ]
  },
  {
   "cell_type": "code",
   "execution_count": 14,
   "metadata": {
    "collapsed": false
   },
   "outputs": [
    {
     "data": {
      "text/plain": [
       "Decimal('451341.20')"
      ]
     },
     "execution_count": 14,
     "metadata": {},
     "output_type": "execute_result"
    }
   ],
   "source": [
    "m.total_payout() - m.amount()"
   ]
  },
  {
   "cell_type": "code",
   "execution_count": null,
   "metadata": {
    "collapsed": true
   },
   "outputs": [],
   "source": []
  },
  {
   "cell_type": "code",
   "execution_count": 2,
   "metadata": {
    "collapsed": true
   },
   "outputs": [],
   "source": [
    "## for investment property"
   ]
  },
  {
   "cell_type": "code",
   "execution_count": 149,
   "metadata": {
    "collapsed": false
   },
   "outputs": [
    {
     "name": "stdout",
     "output_type": "stream",
     "text": [
      "home app:  1928621.13602\n",
      "payments:  997745\n",
      "diff:  930876.136024\n",
      "1776266.13602\n",
      "1771621.13602\n",
      "831455\n"
     ]
    }
   ],
   "source": [
    "home_price = 785000\n",
    "down_payment = .2\n",
    "down_payment = home_price * down_payment\n",
    "loan = home_price - down_payment\n",
    "loan_term = 15 # years\n",
    "interest = .04\n",
    "# home_appreciation = 1500000\n",
    "home_appreciation_rate = .03\n",
    "\n",
    "m = mortgage.Mortgage(interest=interest, amount=loan, months=loan_term*12)\n",
    "ha  = home_price\n",
    "house_pay = int(m.monthly_payment())\n",
    "rent = house_pay\n",
    "pmt = int(house_pay - rent)\n",
    "\n",
    "home = []\n",
    "home_app = []\n",
    "roi_inv = []\n",
    "roi_inv30 = []\n",
    "a = int(down_payment)\n",
    "b = a\n",
    "c = 0\n",
    "# for count, i in enumerate(m.monthly_payment_schedule()):\n",
    "for i in range(12*30):\n",
    "#     a += i[0] + i[1]\n",
    "    b += house_pay\n",
    "    ha = ha + (ha * home_appreciation_rate/12)\n",
    "    home_app.append(ha)\n",
    "    roi_inv30.append(ha - down_payment - pmt)\n",
    "    if i <= 12 * loan_term:\n",
    "        a += house_pay\n",
    "        pmt = float(house_pay) - rent\n",
    "#         home.append(pmt)\n",
    "        roi_inv.append(ha - down_payment)\n",
    "    else:\n",
    "        c += rent\n",
    "        roi_inv.append(ha - down_payment + c)\n",
    "        \n",
    "print 'home app: ', ha\n",
    "print 'payments: ', a\n",
    "print 'diff: ', ha - a\n",
    "print ha - down_payment + rent\n",
    "print ha - down_payment\n",
    "print c"
   ]
  },
  {
   "cell_type": "code",
   "execution_count": 150,
   "metadata": {
    "collapsed": false
   },
   "outputs": [
    {
     "data": {
      "image/png": "[encoded data removed]",
      "text/plain": [
       "<matplotlib.figure.Figure at 0x11ac2ea10>"
      ]
     },
     "metadata": {},
     "output_type": "display_data"
    }
   ],
   "source": [
    "# plt.plot(range(1,(30*12)+1), home, label=\"invest\")\n",
    "plt.plot(range(1,(30*12)+1), home_app, '--', label=\"home_app\")\n",
    "plt.plot(range(1,(30*12)+1), roi_inv, '-', label=\"roi 15\")\n",
    "plt.plot(range(1,(30*12)+1), roi_inv30, '-', label=\"roi 30\")\n",
    "plt.axvline(15*12, label='15 years')\n",
    "plt.legend(loc='upper left')\n",
    "plt.show()"
   ]
  },
  {
   "cell_type": "code",
   "execution_count": null,
   "metadata": {
    "collapsed": false
   },
   "outputs": [],
   "source": []
  },
  {
   "cell_type": "code",
   "execution_count": null,
   "metadata": {
    "collapsed": false
   },
   "outputs": [],
   "source": []
  },
  {
   "cell_type": "code",
   "execution_count": null,
   "metadata": {
    "collapsed": true
   },
   "outputs": [],
   "source": []
  },
  {
   "cell_type": "code",
   "execution_count": 2,
   "metadata": {
    "collapsed": true
   },
   "outputs": [],
   "source": [
    "def as_currency(amount):\n",
    "    if amount >= 0:\n",
    "        return '${:,.2f}'.format(amount)\n",
    "    else:\n",
    "        return '-${:,.2f}'.format(-amount)"
   ]
  },
  {
   "cell_type": "markdown",
   "metadata": {
    "collapsed": true
   },
   "source": [
    "# buying vs renting"
   ]
  },
  {
   "cell_type": "code",
   "execution_count": 3,
   "metadata": {
    "collapsed": true
   },
   "outputs": [],
   "source": [
    "## variables asked\n",
    "home_price = 785000\n",
    "down_payment_percent = .2\n",
    "interest = .04\n",
    "loan_term = 30\n",
    "house_rent = 3100\n",
    "house_rent_term_years = 0\n",
    "current_rent = 2500\n",
    "pmi = 0\n",
    "# from all sources\n",
    "income = 130000\n",
    "# zip_code = 94303  # possibly to look up property tax rates"
   ]
  },
  {
   "cell_type": "code",
   "execution_count": 4,
   "metadata": {
    "collapsed": false
   },
   "outputs": [],
   "source": [
    "## variables assumed\n",
    "down_payment = down_payment_percent * home_price\n",
    "loan_amount = home_price - down_payment\n",
    "m = mtg.Mortgage(interest=interest, amount=loan_amount, months=loan_term*12)\n",
    "monthly_payouts = [i for i in m.monthly_payment_schedule()]\n",
    "mortgage = float(m.monthly_payment())\n",
    "total_interest_paid = float(m.total_payout()) - loan_amount\n",
    "hoi = 75\n",
    "property_tax_rate = .0125\n",
    "property_tax_payment_monthly = (float(property_tax_rate) * home_price) / 12.\n",
    "monthly_property_tax_amount = (property_tax_rate * home_price) / 12.\n",
    "home_appreciation_rate = .04\n",
    "rent_appreciation_rate = .03\n",
    "closing_cost_rate = .02\n",
    "closing_costs = home_price * closing_cost_rate\n",
    "arr = .06\n",
    "years = 30\n",
    "# maintence_rate = .0025\n",
    "total_monthly_house_payment = mortgage + hoi + property_tax_payment_monthly\n",
    "\n",
    "# for 2017\n",
    "if income < 9325:\n",
    "    income_tax_rate = .1\n",
    "elif income >= 9325 and income < 37950:\n",
    "    income_tax_rate = .15\n",
    "elif income >= 37950 and income < 91900:\n",
    "    income_tax_rate = .25\n",
    "elif income >= 91900 and income < 191650:\n",
    "    income_tax_rate = .28\n",
    "elif income >= 191650 and income < 416700:\n",
    "    income_tax_rate = .33\n",
    "elif income >= 416700 and income < 418400:\n",
    "    income_tax_rate = .35\n",
    "else:\n",
    "    income_tax_rate = .396\n",
    "    "
   ]
  },
  {
   "cell_type": "code",
   "execution_count": 5,
   "metadata": {
    "collapsed": false
   },
   "outputs": [
    {
     "name": "stdout",
     "output_type": "stream",
     "text": [
      "final new rent: $3,890.88\n",
      "total home payment (including down payment and closing costs): $1,573,416.20\n",
      "total home payment (minus tax deduction for interest): $1,447,040.99\n",
      "total deductions: $126,375.21\n",
      "total rent payment: $1,470,080.35\n",
      "difference (pay this more for house): $103,335.85\n"
     ]
    },
    {
     "data": {
      "image/png": "[encoded data removed]",
      "text/plain": [
       "<matplotlib.figure.Figure at 0x1171478d0>"
      ]
     },
     "metadata": {},
     "output_type": "display_data"
    }
   ],
   "source": [
    "## total payouts\n",
    "home_payout = []\n",
    "home_payout_int = []\n",
    "rent_payout = []\n",
    "new_current_rent = current_rent\n",
    "# new_total_monthly_house_payment = total_monthly_house_payment + down_payment\n",
    "total_deductions = 0\n",
    "\n",
    "for i in range(years * 12):\n",
    "# for i in range(loan_term * 12):\n",
    "\n",
    "    # add up total cost ?? add in maintence\n",
    "#     total_monthly_house_payment = principal + interest + hoi + property_tax_payment_monthly\n",
    "\n",
    "    # subtract house rent\n",
    "    if i < house_rent_term_years * 12:\n",
    "        new_total_monthly_house_payment = total_monthly_house_payment - house_rent\n",
    "    else:\n",
    "        new_total_monthly_house_payment = total_monthly_house_payment\n",
    "    \n",
    "    \n",
    "    if i <= loan_term * 12:\n",
    "        home_payout.append(new_total_monthly_house_payment)\n",
    "        # deduct interest\n",
    "        interest = float(monthly_payouts[i][1])\n",
    "#         principal = float(monthly_payouts[i][0])\n",
    "        ded = (interest * income_tax_rate)\n",
    "        act_house_pay = new_total_monthly_house_payment - ded\n",
    "        total_deductions += ded\n",
    "        home_payout_int.append(act_house_pay)\n",
    "    else:\n",
    "        home_payout.append(new_total_monthly_house_payment - mortgage)\n",
    "        home_payout_int.append(new_total_monthly_house_payment - mortgage)\n",
    "        \n",
    "    # every year have rent increase\n",
    "    if i % 12 == 0:\n",
    "        new_current_rent += new_current_rent * rent_appreciation_rate\n",
    "    rent_payout.append(new_current_rent)\n",
    "        \n",
    "\n",
    "total_home_pay = sum(home_payout) + down_payment + closing_costs\n",
    "total_home_pay_int = sum(home_payout_int) + down_payment + closing_costs\n",
    "print 'final new rent:', as_currency(new_total_monthly_house_payment)\n",
    "print 'total home payment (including down payment and closing costs):', as_currency(total_home_pay)\n",
    "print 'total home payment (minus tax deduction for interest):', as_currency(total_home_pay_int)\n",
    "print 'total deductions:', as_currency(total_deductions)\n",
    "print 'total rent payment:', as_currency(sum(rent_payout))\n",
    "print 'difference (pay this more for house):', as_currency(float(total_home_pay) - sum(rent_payout))\n",
    "\n",
    "plt.plot(range(1,(years * 12)+1), home_payout_int, '-', label=\"home\")\n",
    "plt.plot(range(1,(years * 12)+1), rent_payout, '-', label=\"renting\")\n",
    "if years > loan_term:\n",
    "    plt.axvline(loan_term * 12, label='30 years', color='grey', linestyle='--')\n",
    "plt.legend(loc='lower right')\n",
    "plt.show()"
   ]
  },
  {
   "cell_type": "code",
   "execution_count": 6,
   "metadata": {
    "collapsed": false
   },
   "outputs": [
    {
     "name": "stdout",
     "output_type": "stream",
     "text": [
      "total house pay: $1,400,716.20\n",
      "total house worth: $2,601,095.94\n",
      "total investment worth: $505,304,056.22\n",
      "total home net worth: $409,739.19\n",
      "total inv net worth: $252,317,782.12\n",
      "difference (have this much more if invest): $251,908,042.93\n"
     ]
    },
    {
     "data": {
      "image/png": "[encoded data removed]",
      "text/plain": [
       "<matplotlib.figure.Figure at 0x11711d610>"
      ]
     },
     "metadata": {},
     "output_type": "display_data"
    }
   ],
   "source": [
    "## Net worth: home vs investing\n",
    "## total payouts\n",
    "home_nw = []\n",
    "roi = []\n",
    "new_current_rent = current_rent\n",
    "new_total_monthly_house_payment = 0\n",
    "ha = home_price\n",
    "home_net_worth = home_price\n",
    "investment = down_payment\n",
    "net_inv = down_payment\n",
    "total_rent = 0\n",
    "years = 30\n",
    "for i in range(years * 12):\n",
    "# for i in range(loan_term * 12):\n",
    "    # subtract house rent\n",
    "    if i < house_rent_term_years * 12:\n",
    "        new_total_monthly_house_payment += total_monthly_house_payment - house_rent\n",
    "    else:\n",
    "        new_total_monthly_house_payment += total_monthly_house_payment\n",
    "    \n",
    "    if i <= loan_term * 12:\n",
    "        # changed to include total mortgage payment and net worth at every step\n",
    "        home_add_ons = new_total_monthly_house_payment - mortgage\n",
    "        interest = float(monthly_payouts[i][1])\n",
    "        act_house_pay = new_total_monthly_house_payment - (interest * income_tax_rate)\n",
    "        home_net_worth = ha - home_price - home_add_ons + interest * income_tax_rate\n",
    "    else:\n",
    "        total_monthly_house_payment = total_monthly_house_payment - mortgage\n",
    "        home_add_ons = new_total_monthly_house_payment\n",
    "        home_net_worth = ha - home_price - home_add_ons\n",
    "    \n",
    "    home_nw.append(home_net_worth)\n",
    "    ha += (ha * home_appreciation_rate / 12.) \n",
    "    \n",
    "    # every year have rent increase\n",
    "    if i % 12 == 0:\n",
    "        new_current_rent += new_current_rent * rent_appreciation_rate\n",
    "    \n",
    "    total_rent += new_current_rent\n",
    "    net_inv += new_total_monthly_house_payment - new_current_rent\n",
    "    investment += new_total_monthly_house_payment - new_current_rent\n",
    "    investment += (investment * arr / 12.)\n",
    "    roi_inv = investment - net_inv - total_rent\n",
    "    roi.append(roi_inv)\n",
    "    \n",
    "\n",
    "# print total_rent, net_inv, net_inv + total_rent\n",
    "print 'total house pay:', as_currency(new_total_monthly_house_payment)\n",
    "print 'total house worth:', as_currency(ha)\n",
    "print 'total investment worth:', as_currency(investment)\n",
    "print 'total home net worth:', as_currency(home_net_worth)\n",
    "print 'total inv net worth:', as_currency(roi_inv)\n",
    "print 'difference (have this much more if invest):', as_currency(roi_inv - home_net_worth)\n",
    "\n",
    "plt.plot(range(1,(years * 12)+1), home_nw, '-', label=\"home roi\")\n",
    "plt.plot(range(1,(years * 12)+1), roi, '-', label=\"inv roi\")\n",
    "if years > loan_term:\n",
    "    plt.axvline(loan_term * 12, label='30 years', color='grey', linestyle='--')\n",
    "plt.legend(loc='upper left')\n",
    "plt.show()"
   ]
  },
  {
   "cell_type": "code",
   "execution_count": null,
   "metadata": {
    "collapsed": false
   },
   "outputs": [],
   "source": [
    "## try to find how much you can rent for to equal same as buying, work backwards"
   ]
  },
  {
   "cell_type": "code",
   "execution_count": null,
   "metadata": {
    "collapsed": false
   },
   "outputs": [],
   "source": []
  },
  {
   "cell_type": "markdown",
   "metadata": {
    "collapsed": false
   },
   "source": [
    "# saving vs investing"
   ]
  },
  {
   "cell_type": "code",
   "execution_count": null,
   "metadata": {
    "collapsed": false
   },
   "outputs": [],
   "source": []
  },
  {
   "cell_type": "code",
   "execution_count": null,
   "metadata": {
    "collapsed": false
   },
   "outputs": [],
   "source": []
  },
  {
   "cell_type": "code",
   "execution_count": null,
   "metadata": {
    "collapsed": false
   },
   "outputs": [],
   "source": []
  },
  {
   "cell_type": "code",
   "execution_count": null,
   "metadata": {
    "collapsed": true
   },
   "outputs": [],
   "source": []
  }
 ],
 "metadata": {
  "anaconda-cloud": {},
  "kernelspec": {
   "display_name": "Python [Root]",
   "language": "python",
   "name": "Python [Root]"
  },
  "language_info": {
   "codemirror_mode": {
    "name": "ipython",
    "version": 2
   },
   "file_extension": ".py",
   "mimetype": "text/x-python",
   "name": "python",
   "nbconvert_exporter": "python",
   "pygments_lexer": "ipython2",
   "version": "2.7.12"
  }
 },
 "nbformat": 4,
 "nbformat_minor": 0
}
